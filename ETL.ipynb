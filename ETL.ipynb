{
 "cells": [
  {
   "cell_type": "markdown",
   "metadata": {},
   "source": [
    "### We import the libraries we are going to use."
   ]
  },
  {
   "cell_type": "code",
   "execution_count": 2,
   "metadata": {},
   "outputs": [],
   "source": [
    "import pandas as pd\n",
    "import numpy as np\n",
    "import matplotlib.pyplot as plt\n",
    "import seaborn as sns\n",
    "from scipy import stats\n",
    "from textblob import TextBlob\n",
    "import warnings\n",
    "warnings.filterwarnings(\"ignore\")"
   ]
  },
  {
   "cell_type": "code",
   "execution_count": 3,
   "metadata": {},
   "outputs": [],
   "source": [
    "# Transforming datasets into dataframes\n",
    "calendar = pd.read_csv('datasets/calendar.csv')\n",
    "listings = pd.read_csv('datasets/listings.csv')\n",
    "reviews = pd.read_csv('datasets/reviews.csv')"
   ]
  },
  {
   "cell_type": "code",
   "execution_count": 4,
   "metadata": {},
   "outputs": [
    {
     "data": {
      "text/html": [
       "<div>\n",
       "<style scoped>\n",
       "    .dataframe tbody tr th:only-of-type {\n",
       "        vertical-align: middle;\n",
       "    }\n",
       "\n",
       "    .dataframe tbody tr th {\n",
       "        vertical-align: top;\n",
       "    }\n",
       "\n",
       "    .dataframe thead th {\n",
       "        text-align: right;\n",
       "    }\n",
       "</style>\n",
       "<table border=\"1\" class=\"dataframe\">\n",
       "  <thead>\n",
       "    <tr style=\"text-align: right;\">\n",
       "      <th></th>\n",
       "      <th>listing_id</th>\n",
       "      <th>date</th>\n",
       "      <th>available</th>\n",
       "      <th>price</th>\n",
       "      <th>adjusted_price</th>\n",
       "      <th>minimum_nights</th>\n",
       "      <th>maximum_nights</th>\n",
       "    </tr>\n",
       "  </thead>\n",
       "  <tbody>\n",
       "    <tr>\n",
       "      <th>0</th>\n",
       "      <td>50778</td>\n",
       "      <td>2020-04-26</td>\n",
       "      <td>f</td>\n",
       "      <td>$2,655.00</td>\n",
       "      <td>$2,655.00</td>\n",
       "      <td>5.0</td>\n",
       "      <td>1125.0</td>\n",
       "    </tr>\n",
       "    <tr>\n",
       "      <th>1</th>\n",
       "      <td>133654</td>\n",
       "      <td>2020-04-27</td>\n",
       "      <td>t</td>\n",
       "      <td>$1,150.00</td>\n",
       "      <td>$1,150.00</td>\n",
       "      <td>4.0</td>\n",
       "      <td>1125.0</td>\n",
       "    </tr>\n",
       "    <tr>\n",
       "      <th>2</th>\n",
       "      <td>133654</td>\n",
       "      <td>2020-04-28</td>\n",
       "      <td>t</td>\n",
       "      <td>$1,150.00</td>\n",
       "      <td>$1,150.00</td>\n",
       "      <td>4.0</td>\n",
       "      <td>1125.0</td>\n",
       "    </tr>\n",
       "  </tbody>\n",
       "</table>\n",
       "</div>"
      ],
      "text/plain": [
       "   listing_id        date available      price adjusted_price  minimum_nights  \\\n",
       "0       50778  2020-04-26         f  $2,655.00      $2,655.00             5.0   \n",
       "1      133654  2020-04-27         t  $1,150.00      $1,150.00             4.0   \n",
       "2      133654  2020-04-28         t  $1,150.00      $1,150.00             4.0   \n",
       "\n",
       "   maximum_nights  \n",
       "0          1125.0  \n",
       "1          1125.0  \n",
       "2          1125.0  "
      ]
     },
     "execution_count": 4,
     "metadata": {},
     "output_type": "execute_result"
    }
   ],
   "source": [
    "calendar.head(3)"
   ]
  },
  {
   "cell_type": "code",
   "execution_count": 5,
   "metadata": {},
   "outputs": [
    {
     "data": {
      "text/html": [
       "<div>\n",
       "<style scoped>\n",
       "    .dataframe tbody tr th:only-of-type {\n",
       "        vertical-align: middle;\n",
       "    }\n",
       "\n",
       "    .dataframe tbody tr th {\n",
       "        vertical-align: top;\n",
       "    }\n",
       "\n",
       "    .dataframe thead th {\n",
       "        text-align: right;\n",
       "    }\n",
       "</style>\n",
       "<table border=\"1\" class=\"dataframe\">\n",
       "  <thead>\n",
       "    <tr style=\"text-align: right;\">\n",
       "      <th></th>\n",
       "      <th>id</th>\n",
       "      <th>listing_url</th>\n",
       "      <th>scrape_id</th>\n",
       "      <th>last_scraped</th>\n",
       "      <th>name</th>\n",
       "      <th>summary</th>\n",
       "      <th>space</th>\n",
       "      <th>description</th>\n",
       "      <th>experiences_offered</th>\n",
       "      <th>neighborhood_overview</th>\n",
       "      <th>...</th>\n",
       "      <th>instant_bookable</th>\n",
       "      <th>is_business_travel_ready</th>\n",
       "      <th>cancellation_policy</th>\n",
       "      <th>require_guest_profile_picture</th>\n",
       "      <th>require_guest_phone_verification</th>\n",
       "      <th>calculated_host_listings_count</th>\n",
       "      <th>calculated_host_listings_count_entire_homes</th>\n",
       "      <th>calculated_host_listings_count_private_rooms</th>\n",
       "      <th>calculated_host_listings_count_shared_rooms</th>\n",
       "      <th>reviews_per_month</th>\n",
       "    </tr>\n",
       "  </thead>\n",
       "  <tbody>\n",
       "    <tr>\n",
       "      <th>0</th>\n",
       "      <td>11508</td>\n",
       "      <td>https://www.airbnb.com/rooms/11508</td>\n",
       "      <td>20200426042522</td>\n",
       "      <td>2020-04-26</td>\n",
       "      <td>Amazing Luxurious Apt-Palermo Soho</td>\n",
       "      <td>NaN</td>\n",
       "      <td>LUXURIOUS NEW APT: 1 BDRM- POOL/ GYM/ SPA/ 24-...</td>\n",
       "      <td>LUXURIOUS NEW APT: 1 BDRM- POOL/ GYM/ SPA/ 24-...</td>\n",
       "      <td>none</td>\n",
       "      <td>AREA: PALERMO SOHO Minutes walking distance fr...</td>\n",
       "      <td>...</td>\n",
       "      <td>f</td>\n",
       "      <td>f</td>\n",
       "      <td>strict_14_with_grace_period</td>\n",
       "      <td>f</td>\n",
       "      <td>f</td>\n",
       "      <td>1</td>\n",
       "      <td>1</td>\n",
       "      <td>0</td>\n",
       "      <td>0</td>\n",
       "      <td>0.27</td>\n",
       "    </tr>\n",
       "    <tr>\n",
       "      <th>1</th>\n",
       "      <td>12463</td>\n",
       "      <td>https://www.airbnb.com/rooms/12463</td>\n",
       "      <td>20200426042522</td>\n",
       "      <td>2020-04-26</td>\n",
       "      <td>Room in Recoleta - awesome location</td>\n",
       "      <td>My apartment is centrally located in Recoleta ...</td>\n",
       "      <td>This is a very comfortable pull-out sofa in th...</td>\n",
       "      <td>My apartment is centrally located in Recoleta ...</td>\n",
       "      <td>none</td>\n",
       "      <td>It's near the school of medicine so the street...</td>\n",
       "      <td>...</td>\n",
       "      <td>f</td>\n",
       "      <td>f</td>\n",
       "      <td>moderate</td>\n",
       "      <td>f</td>\n",
       "      <td>f</td>\n",
       "      <td>1</td>\n",
       "      <td>0</td>\n",
       "      <td>1</td>\n",
       "      <td>0</td>\n",
       "      <td>0.16</td>\n",
       "    </tr>\n",
       "  </tbody>\n",
       "</table>\n",
       "<p>2 rows × 106 columns</p>\n",
       "</div>"
      ],
      "text/plain": [
       "      id                         listing_url       scrape_id last_scraped  \\\n",
       "0  11508  https://www.airbnb.com/rooms/11508  20200426042522   2020-04-26   \n",
       "1  12463  https://www.airbnb.com/rooms/12463  20200426042522   2020-04-26   \n",
       "\n",
       "                                  name  \\\n",
       "0   Amazing Luxurious Apt-Palermo Soho   \n",
       "1  Room in Recoleta - awesome location   \n",
       "\n",
       "                                             summary  \\\n",
       "0                                                NaN   \n",
       "1  My apartment is centrally located in Recoleta ...   \n",
       "\n",
       "                                               space  \\\n",
       "0  LUXURIOUS NEW APT: 1 BDRM- POOL/ GYM/ SPA/ 24-...   \n",
       "1  This is a very comfortable pull-out sofa in th...   \n",
       "\n",
       "                                         description experiences_offered  \\\n",
       "0  LUXURIOUS NEW APT: 1 BDRM- POOL/ GYM/ SPA/ 24-...                none   \n",
       "1  My apartment is centrally located in Recoleta ...                none   \n",
       "\n",
       "                               neighborhood_overview  ... instant_bookable  \\\n",
       "0  AREA: PALERMO SOHO Minutes walking distance fr...  ...                f   \n",
       "1  It's near the school of medicine so the street...  ...                f   \n",
       "\n",
       "  is_business_travel_ready          cancellation_policy  \\\n",
       "0                        f  strict_14_with_grace_period   \n",
       "1                        f                     moderate   \n",
       "\n",
       "  require_guest_profile_picture require_guest_phone_verification  \\\n",
       "0                             f                                f   \n",
       "1                             f                                f   \n",
       "\n",
       "   calculated_host_listings_count  \\\n",
       "0                               1   \n",
       "1                               1   \n",
       "\n",
       "   calculated_host_listings_count_entire_homes  \\\n",
       "0                                            1   \n",
       "1                                            0   \n",
       "\n",
       "  calculated_host_listings_count_private_rooms  \\\n",
       "0                                            0   \n",
       "1                                            1   \n",
       "\n",
       "   calculated_host_listings_count_shared_rooms  reviews_per_month  \n",
       "0                                            0               0.27  \n",
       "1                                            0               0.16  \n",
       "\n",
       "[2 rows x 106 columns]"
      ]
     },
     "execution_count": 5,
     "metadata": {},
     "output_type": "execute_result"
    }
   ],
   "source": [
    "listings.head(2)"
   ]
  },
  {
   "cell_type": "code",
   "execution_count": 6,
   "metadata": {},
   "outputs": [
    {
     "data": {
      "text/html": [
       "<div>\n",
       "<style scoped>\n",
       "    .dataframe tbody tr th:only-of-type {\n",
       "        vertical-align: middle;\n",
       "    }\n",
       "\n",
       "    .dataframe tbody tr th {\n",
       "        vertical-align: top;\n",
       "    }\n",
       "\n",
       "    .dataframe thead th {\n",
       "        text-align: right;\n",
       "    }\n",
       "</style>\n",
       "<table border=\"1\" class=\"dataframe\">\n",
       "  <thead>\n",
       "    <tr style=\"text-align: right;\">\n",
       "      <th></th>\n",
       "      <th>listing_id</th>\n",
       "      <th>id</th>\n",
       "      <th>date</th>\n",
       "      <th>reviewer_id</th>\n",
       "      <th>reviewer_name</th>\n",
       "      <th>comments</th>\n",
       "    </tr>\n",
       "  </thead>\n",
       "  <tbody>\n",
       "    <tr>\n",
       "      <th>0</th>\n",
       "      <td>11508</td>\n",
       "      <td>1615861</td>\n",
       "      <td>2012-07-02</td>\n",
       "      <td>877808</td>\n",
       "      <td>Charlie</td>\n",
       "      <td>Amazing place!\\r\\n\\r\\nLocation: short walk to ...</td>\n",
       "    </tr>\n",
       "    <tr>\n",
       "      <th>1</th>\n",
       "      <td>11508</td>\n",
       "      <td>3157005</td>\n",
       "      <td>2012-12-26</td>\n",
       "      <td>656077</td>\n",
       "      <td>Shaily</td>\n",
       "      <td>Really enjoyed Candela's recommendations and q...</td>\n",
       "    </tr>\n",
       "    <tr>\n",
       "      <th>2</th>\n",
       "      <td>11508</td>\n",
       "      <td>3281011</td>\n",
       "      <td>2013-01-05</td>\n",
       "      <td>2835998</td>\n",
       "      <td>Michiel</td>\n",
       "      <td>Candela and her colleague were very attentive ...</td>\n",
       "    </tr>\n",
       "  </tbody>\n",
       "</table>\n",
       "</div>"
      ],
      "text/plain": [
       "   listing_id       id        date  reviewer_id reviewer_name  \\\n",
       "0       11508  1615861  2012-07-02       877808       Charlie   \n",
       "1       11508  3157005  2012-12-26       656077        Shaily   \n",
       "2       11508  3281011  2013-01-05      2835998       Michiel   \n",
       "\n",
       "                                            comments  \n",
       "0  Amazing place!\\r\\n\\r\\nLocation: short walk to ...  \n",
       "1  Really enjoyed Candela's recommendations and q...  \n",
       "2  Candela and her colleague were very attentive ...  "
      ]
     },
     "execution_count": 6,
     "metadata": {},
     "output_type": "execute_result"
    }
   ],
   "source": [
    "reviews.head(3)"
   ]
  },
  {
   "cell_type": "markdown",
   "metadata": {},
   "source": [
    "### we will see if it contains nulls"
   ]
  },
  {
   "cell_type": "code",
   "execution_count": 7,
   "metadata": {},
   "outputs": [],
   "source": [
    "def visualize_missing_values(data):\n",
    "    # Count null and non-null values per column\n",
    "    missing_counts = data.isnull().sum()\n",
    "    non_missing_counts = data.notnull().sum()\n",
    "\n",
    "    # Calculate percentages\n",
    "    total_counts = missing_counts + non_missing_counts\n",
    "    missing_percentage = (missing_counts / total_counts) * 100\n",
    "    non_missing_percentage = (non_missing_counts / total_counts) * 100\n",
    "\n",
    "    # Set the size of the plot\n",
    "    fig, ax = plt.subplots(figsize=(6, 4))\n",
    "\n",
    "    # Create stacked bars\n",
    "    bars1 = ax.barh(data.columns, missing_percentage, color='lightcoral', edgecolor='grey', label='Missing')\n",
    "    bars2 = ax.barh(data.columns, non_missing_percentage, left=missing_percentage, color='lightblue', edgecolor='grey', label='Non-Missing')\n",
    "\n",
    "    # Add labels and title\n",
    "    ax.set_xlabel('Percentage')\n",
    "    ax.set_title('Percentage of Missing and Non-Missing Values per Column')\n",
    "    ax.legend()\n",
    "\n",
    "    # Display the plot\n",
    "    plt.show()\n"
   ]
  },
  {
   "cell_type": "code",
   "execution_count": 8,
   "metadata": {},
   "outputs": [
    {
     "data": {
      "image/png": "[encoded data removed]",
      "text/plain": [
       "<Figure size 600x400 with 1 Axes>"
      ]
     },
     "metadata": {},
     "output_type": "display_data"
    },
    {
     "data": {
      "image/png": "[encoded data removed]",
      "text/plain": [
       "<Figure size 600x400 with 1 Axes>"
      ]
     },
     "metadata": {},
     "output_type": "display_data"
    },
    {
     "data": {
      "image/png": "[encoded data removed]",
      "text/plain": [
       "<Figure size 600x400 with 1 Axes>"
      ]
     },
     "metadata": {},
     "output_type": "display_data"
    }
   ],
   "source": [
    "# We use the function to display the graphs.\n",
    "visualize_missing_values(calendar)\n",
    "visualize_missing_values(listings)\n",
    "visualize_missing_values(reviews)"
   ]
  },
  {
   "cell_type": "markdown",
   "metadata": {},
   "source": [
    "We can see that 2 of the 3 df do not contain null values. "
   ]
  },
  {
   "cell_type": "markdown",
   "metadata": {},
   "source": [
    "### We will start with an ETL with the DF called ‘Calendar’."
   ]
  },
  {
   "cell_type": "code",
   "execution_count": 9,
   "metadata": {},
   "outputs": [
    {
     "data": {
      "text/html": [
       "<div>\n",
       "<style scoped>\n",
       "    .dataframe tbody tr th:only-of-type {\n",
       "        vertical-align: middle;\n",
       "    }\n",
       "\n",
       "    .dataframe tbody tr th {\n",
       "        vertical-align: top;\n",
       "    }\n",
       "\n",
       "    .dataframe thead th {\n",
       "        text-align: right;\n",
       "    }\n",
       "</style>\n",
       "<table border=\"1\" class=\"dataframe\">\n",
       "  <thead>\n",
       "    <tr style=\"text-align: right;\">\n",
       "      <th></th>\n",
       "      <th>listing_id</th>\n",
       "      <th>date</th>\n",
       "      <th>available</th>\n",
       "      <th>price</th>\n",
       "      <th>adjusted_price</th>\n",
       "      <th>minimum_nights</th>\n",
       "      <th>maximum_nights</th>\n",
       "    </tr>\n",
       "  </thead>\n",
       "  <tbody>\n",
       "    <tr>\n",
       "      <th>0</th>\n",
       "      <td>50778</td>\n",
       "      <td>2020-04-26</td>\n",
       "      <td>f</td>\n",
       "      <td>$2,655.00</td>\n",
       "      <td>$2,655.00</td>\n",
       "      <td>5.0</td>\n",
       "      <td>1125.0</td>\n",
       "    </tr>\n",
       "    <tr>\n",
       "      <th>1</th>\n",
       "      <td>133654</td>\n",
       "      <td>2020-04-27</td>\n",
       "      <td>t</td>\n",
       "      <td>$1,150.00</td>\n",
       "      <td>$1,150.00</td>\n",
       "      <td>4.0</td>\n",
       "      <td>1125.0</td>\n",
       "    </tr>\n",
       "    <tr>\n",
       "      <th>2</th>\n",
       "      <td>133654</td>\n",
       "      <td>2020-04-28</td>\n",
       "      <td>t</td>\n",
       "      <td>$1,150.00</td>\n",
       "      <td>$1,150.00</td>\n",
       "      <td>4.0</td>\n",
       "      <td>1125.0</td>\n",
       "    </tr>\n",
       "  </tbody>\n",
       "</table>\n",
       "</div>"
      ],
      "text/plain": [
       "   listing_id        date available      price adjusted_price  minimum_nights  \\\n",
       "0       50778  2020-04-26         f  $2,655.00      $2,655.00             5.0   \n",
       "1      133654  2020-04-27         t  $1,150.00      $1,150.00             4.0   \n",
       "2      133654  2020-04-28         t  $1,150.00      $1,150.00             4.0   \n",
       "\n",
       "   maximum_nights  \n",
       "0          1125.0  \n",
       "1          1125.0  \n",
       "2          1125.0  "
      ]
     },
     "execution_count": 9,
     "metadata": {},
     "output_type": "execute_result"
    }
   ],
   "source": [
    "calendar.head(3)"
   ]
  },
  {
   "cell_type": "markdown",
   "metadata": {},
   "source": [
    "contains the columns (‘minimum_nights’ and ‘maximum_nights’)"
   ]
  },
  {
   "cell_type": "code",
   "execution_count": 10,
   "metadata": {},
   "outputs": [
    {
     "data": {
      "text/plain": [
       "array([1.1250e+03, 4.0000e+00, 9.0000e+01, 1.8000e+02, 7.3000e+02,\n",
       "       3.6000e+02, 3.6500e+02, 2.0000e+02, 1.5000e+01, 1.1240e+03,\n",
       "       1.2000e+02, 9.9999e+04, 2.0000e+01, 3.0000e+01, 6.2000e+01,\n",
       "       3.0000e+02, 6.0000e+01, 1.0950e+03, 1.8250e+03, 1.5000e+02,\n",
       "       2.8000e+01, 7.0000e+00, 7.6000e+02, 2.5000e+01, 9.0000e+03,\n",
       "       9.9900e+02,        nan, 6.0000e+00, 8.0000e+02, 7.2000e+02,\n",
       "       1.7900e+02, 1.5000e+03, 6.0000e+02, 1.2000e+01, 1.8200e+02,\n",
       "       1.4000e+01, 1.2500e+02, 1.0000e+01, 5.0000e+01, 1.0000e+03,\n",
       "       9.4000e+01, 1.0000e+04, 5.0000e+00, 3.3000e+02, 7.0000e+01,\n",
       "       3.2000e+02, 3.0000e+00, 4.5000e+01, 3.5000e+01, 2.9000e+01,\n",
       "       4.0000e+01, 1.1200e+03, 1.1000e+03, 1.0000e+02, 3.1000e+01,\n",
       "       3.4000e+02, 8.0000e+00, 2.1000e+02, 1.8100e+02, 3.5000e+02,\n",
       "       2.7000e+01, 2.6000e+01, 2.4000e+01, 2.3000e+01, 2.2000e+01,\n",
       "       2.1000e+01, 1.9000e+01, 1.8000e+01, 1.7000e+01, 1.6000e+01,\n",
       "       1.3000e+01, 1.1000e+01, 9.0000e+00, 2.0000e+00, 1.0000e+00,\n",
       "       2.2400e+02, 9.2000e+01, 4.0000e+02, 1.9000e+02, 8.0000e+01,\n",
       "       8.9000e+01, 3.6600e+02, 7.0000e+02, 9.5000e+01, 2.8000e+02,\n",
       "       1.0010e+03, 1.1230e+03, 2.5000e+02, 9.0000e+02, 3.8500e+02,\n",
       "       9.3000e+01, 4.2500e+02, 1.8500e+02, 1.2200e+02, 7.5000e+02,\n",
       "       1.6000e+02, 9.9000e+01, 1.0060e+04, 8.5000e+01, 3.5200e+02,\n",
       "       5.5000e+02, 3.4300e+02, 7.6500e+02, 7.4000e+02, 7.5200e+02,\n",
       "       3.2000e+01, 1.7500e+02, 7.5000e+01, 3.6400e+02, 3.6000e+01,\n",
       "       4.4000e+01, 2.2000e+02, 5.0000e+02, 3.7000e+02, 6.5000e+01,\n",
       "       1.1500e+03, 3.7000e+01, 2.4000e+02, 3.6100e+02, 1.1000e+02,\n",
       "       1.7400e+02, 2.7000e+02, 6.3000e+01, 1.1600e+02, 1.0800e+03,\n",
       "       3.9000e+02, 1.0100e+02, 4.6000e+01, 5.9000e+01, 5.1000e+01,\n",
       "       3.7500e+02, 3.3000e+01, 1.8600e+02, 5.8000e+01, 5.1800e+02,\n",
       "       1.5100e+02, 3.4400e+02, 9.9400e+02, 1.4000e+02, 3.0000e+04,\n",
       "       3.4000e+01, 1.8800e+02, 1.1220e+03, 3.0200e+02, 1.2000e+03,\n",
       "       4.0000e+03, 4.2000e+01, 1.6400e+02, 9.1000e+01, 6.5000e+02,\n",
       "       1.8400e+02, 6.7000e+01, 1.9200e+02, 3.5600e+02, 4.9000e+01,\n",
       "       1.3000e+02, 9.8000e+01, 8.8000e+01, 1.7800e+02, 1.1180e+03,\n",
       "       1.1500e+02, 6.1000e+01, 6.4000e+01, 1.5300e+02, 3.0500e+02,\n",
       "       3.9000e+01, 1.1200e+02, 3.5400e+02, 1.1190e+03, 3.6700e+02,\n",
       "       1.1110e+03, 2.0100e+02, 1.2400e+02, 5.6000e+01, 7.3000e+01,\n",
       "       1.7000e+02, 6.5200e+02, 3.9900e+02, 1.1100e+02, 3.4200e+02,\n",
       "       2.6300e+02, 1.0500e+02, 3.2600e+02, 5.2000e+01, 3.6900e+02,\n",
       "       2.7100e+02, 8.1000e+01, 3.8000e+01, 5.5000e+01, 1.1080e+03,\n",
       "       6.3800e+02, 8.6000e+01, 3.3500e+02, 8.7000e+01, 1.0200e+03,\n",
       "       1.0890e+03, 2.0300e+02, 7.9000e+01, 1.1100e+03, 1.0200e+02,\n",
       "       3.6800e+02, 6.9000e+01, 8.3000e+01, 1.1700e+02, 1.0660e+03,\n",
       "       1.9300e+02, 7.8000e+01, 2.0700e+02, 3.3700e+02, 1.1140e+03])"
      ]
     },
     "execution_count": 10,
     "metadata": {},
     "output_type": "execute_result"
    }
   ],
   "source": [
    "calendar['maximum_nights'].unique()"
   ]
  },
  {
   "cell_type": "code",
   "execution_count": 11,
   "metadata": {},
   "outputs": [
    {
     "data": {
      "text/plain": [
       "array([1.1250e+03, 4.0000e+00, 9.0000e+01, 1.8000e+02, 7.3000e+02,\n",
       "       3.6000e+02, 3.6500e+02, 2.0000e+02, 1.5000e+01, 1.1240e+03,\n",
       "       1.2000e+02, 9.9999e+04, 2.0000e+01, 3.0000e+01, 6.2000e+01,\n",
       "       3.0000e+02, 6.0000e+01, 1.0950e+03, 1.8250e+03, 1.5000e+02,\n",
       "       2.8000e+01, 7.0000e+00, 7.6000e+02, 2.5000e+01, 9.0000e+03,\n",
       "       9.9900e+02,        nan, 6.0000e+00, 8.0000e+02, 7.2000e+02,\n",
       "       1.7900e+02, 1.5000e+03, 6.0000e+02, 1.2000e+01, 1.8200e+02,\n",
       "       1.4000e+01, 1.2500e+02, 1.0000e+01, 5.0000e+01, 1.0000e+03,\n",
       "       9.4000e+01, 1.0000e+04, 5.0000e+00, 3.3000e+02, 7.0000e+01,\n",
       "       3.2000e+02, 3.0000e+00, 4.5000e+01, 3.5000e+01, 2.9000e+01,\n",
       "       4.0000e+01, 1.1200e+03, 1.1000e+03, 1.0000e+02, 3.1000e+01,\n",
       "       3.4000e+02, 8.0000e+00, 2.1000e+02, 1.8100e+02, 3.5000e+02,\n",
       "       2.7000e+01, 2.6000e+01, 2.4000e+01, 2.3000e+01, 2.2000e+01,\n",
       "       2.1000e+01, 1.9000e+01, 1.8000e+01, 1.7000e+01, 1.6000e+01,\n",
       "       1.3000e+01, 1.1000e+01, 9.0000e+00, 2.0000e+00, 1.0000e+00,\n",
       "       2.2400e+02, 9.2000e+01, 4.0000e+02, 1.9000e+02, 8.0000e+01,\n",
       "       8.9000e+01, 3.6600e+02, 7.0000e+02, 9.5000e+01, 2.8000e+02,\n",
       "       1.0010e+03, 1.1230e+03, 2.5000e+02, 9.0000e+02, 3.8500e+02,\n",
       "       9.3000e+01, 4.2500e+02, 1.8500e+02, 1.2200e+02, 7.5000e+02,\n",
       "       1.6000e+02, 9.9000e+01, 1.0060e+04, 8.5000e+01, 3.5200e+02,\n",
       "       5.5000e+02, 3.4300e+02, 7.6500e+02, 7.4000e+02, 7.5200e+02,\n",
       "       3.2000e+01, 1.7500e+02, 7.5000e+01, 3.6400e+02, 3.6000e+01,\n",
       "       4.4000e+01, 2.2000e+02, 5.0000e+02, 3.7000e+02, 6.5000e+01,\n",
       "       1.1500e+03, 3.7000e+01, 2.4000e+02, 3.6100e+02, 1.1000e+02,\n",
       "       1.7400e+02, 2.7000e+02, 6.3000e+01, 1.1600e+02, 1.0800e+03,\n",
       "       3.9000e+02, 1.0100e+02, 4.6000e+01, 5.9000e+01, 5.1000e+01,\n",
       "       3.7500e+02, 3.3000e+01, 1.8600e+02, 5.8000e+01, 5.1800e+02,\n",
       "       1.5100e+02, 3.4400e+02, 9.9400e+02, 1.4000e+02, 3.0000e+04,\n",
       "       3.4000e+01, 1.8800e+02, 1.1220e+03, 3.0200e+02, 1.2000e+03,\n",
       "       4.0000e+03, 4.2000e+01, 1.6400e+02, 9.1000e+01, 6.5000e+02,\n",
       "       1.8400e+02, 6.7000e+01, 1.9200e+02, 3.5600e+02, 4.9000e+01,\n",
       "       1.3000e+02, 9.8000e+01, 8.8000e+01, 1.7800e+02, 1.1180e+03,\n",
       "       1.1500e+02, 6.1000e+01, 6.4000e+01, 1.5300e+02, 3.0500e+02,\n",
       "       3.9000e+01, 1.1200e+02, 3.5400e+02, 1.1190e+03, 3.6700e+02,\n",
       "       1.1110e+03, 2.0100e+02, 1.2400e+02, 5.6000e+01, 7.3000e+01,\n",
       "       1.7000e+02, 6.5200e+02, 3.9900e+02, 1.1100e+02, 3.4200e+02,\n",
       "       2.6300e+02, 1.0500e+02, 3.2600e+02, 5.2000e+01, 3.6900e+02,\n",
       "       2.7100e+02, 8.1000e+01, 3.8000e+01, 5.5000e+01, 1.1080e+03,\n",
       "       6.3800e+02, 8.6000e+01, 3.3500e+02, 8.7000e+01, 1.0200e+03,\n",
       "       1.0890e+03, 2.0300e+02, 7.9000e+01, 1.1100e+03, 1.0200e+02,\n",
       "       3.6800e+02, 6.9000e+01, 8.3000e+01, 1.1700e+02, 1.0660e+03,\n",
       "       1.9300e+02, 7.8000e+01, 2.0700e+02, 3.3700e+02, 1.1140e+03])"
      ]
     },
     "execution_count": 11,
     "metadata": {},
     "output_type": "execute_result"
    }
   ],
   "source": [
    "calendar['maximum_nights'].unique()"
   ]
  },
  {
   "cell_type": "markdown",
   "metadata": {},
   "source": [
    "We discard the column ‘adjusted_price’ as it is considered unnecessary "
   ]
  },
  {
   "cell_type": "code",
   "execution_count": 12,
   "metadata": {},
   "outputs": [],
   "source": [
    "calendar.drop(['minimum_nights', 'maximum_nights', 'adjusted_price'], axis=1 , inplace=True)"
   ]
  },
  {
   "cell_type": "code",
   "execution_count": 13,
   "metadata": {},
   "outputs": [
    {
     "data": {
      "text/html": [
       "<div>\n",
       "<style scoped>\n",
       "    .dataframe tbody tr th:only-of-type {\n",
       "        vertical-align: middle;\n",
       "    }\n",
       "\n",
       "    .dataframe tbody tr th {\n",
       "        vertical-align: top;\n",
       "    }\n",
       "\n",
       "    .dataframe thead th {\n",
       "        text-align: right;\n",
       "    }\n",
       "</style>\n",
       "<table border=\"1\" class=\"dataframe\">\n",
       "  <thead>\n",
       "    <tr style=\"text-align: right;\">\n",
       "      <th></th>\n",
       "      <th>listing_id</th>\n",
       "      <th>date</th>\n",
       "      <th>available</th>\n",
       "      <th>price</th>\n",
       "    </tr>\n",
       "  </thead>\n",
       "  <tbody>\n",
       "    <tr>\n",
       "      <th>0</th>\n",
       "      <td>50778</td>\n",
       "      <td>2020-04-26</td>\n",
       "      <td>f</td>\n",
       "      <td>$2,655.00</td>\n",
       "    </tr>\n",
       "    <tr>\n",
       "      <th>1</th>\n",
       "      <td>133654</td>\n",
       "      <td>2020-04-27</td>\n",
       "      <td>t</td>\n",
       "      <td>$1,150.00</td>\n",
       "    </tr>\n",
       "    <tr>\n",
       "      <th>2</th>\n",
       "      <td>133654</td>\n",
       "      <td>2020-04-28</td>\n",
       "      <td>t</td>\n",
       "      <td>$1,150.00</td>\n",
       "    </tr>\n",
       "    <tr>\n",
       "      <th>3</th>\n",
       "      <td>133654</td>\n",
       "      <td>2020-04-29</td>\n",
       "      <td>t</td>\n",
       "      <td>$1,150.00</td>\n",
       "    </tr>\n",
       "    <tr>\n",
       "      <th>4</th>\n",
       "      <td>133654</td>\n",
       "      <td>2020-04-30</td>\n",
       "      <td>t</td>\n",
       "      <td>$1,150.00</td>\n",
       "    </tr>\n",
       "  </tbody>\n",
       "</table>\n",
       "</div>"
      ],
      "text/plain": [
       "   listing_id        date available      price\n",
       "0       50778  2020-04-26         f  $2,655.00\n",
       "1      133654  2020-04-27         t  $1,150.00\n",
       "2      133654  2020-04-28         t  $1,150.00\n",
       "3      133654  2020-04-29         t  $1,150.00\n",
       "4      133654  2020-04-30         t  $1,150.00"
      ]
     },
     "execution_count": 13,
     "metadata": {},
     "output_type": "execute_result"
    }
   ],
   "source": [
    "calendar.head()"
   ]
  },
  {
   "cell_type": "markdown",
   "metadata": {},
   "source": [
    "change the values in the ‘available’ column to read ‘available’ or ‘unavailable’."
   ]
  },
  {
   "cell_type": "code",
   "execution_count": 14,
   "metadata": {},
   "outputs": [
    {
     "data": {
      "text/html": [
       "<div>\n",
       "<style scoped>\n",
       "    .dataframe tbody tr th:only-of-type {\n",
       "        vertical-align: middle;\n",
       "    }\n",
       "\n",
       "    .dataframe tbody tr th {\n",
       "        vertical-align: top;\n",
       "    }\n",
       "\n",
       "    .dataframe thead th {\n",
       "        text-align: right;\n",
       "    }\n",
       "</style>\n",
       "<table border=\"1\" class=\"dataframe\">\n",
       "  <thead>\n",
       "    <tr style=\"text-align: right;\">\n",
       "      <th></th>\n",
       "      <th>listing_id</th>\n",
       "      <th>date</th>\n",
       "      <th>available</th>\n",
       "      <th>price</th>\n",
       "    </tr>\n",
       "  </thead>\n",
       "  <tbody>\n",
       "    <tr>\n",
       "      <th>0</th>\n",
       "      <td>50778</td>\n",
       "      <td>2020-04-26</td>\n",
       "      <td>unavailable</td>\n",
       "      <td>$2,655.00</td>\n",
       "    </tr>\n",
       "    <tr>\n",
       "      <th>1</th>\n",
       "      <td>133654</td>\n",
       "      <td>2020-04-27</td>\n",
       "      <td>available</td>\n",
       "      <td>$1,150.00</td>\n",
       "    </tr>\n",
       "  </tbody>\n",
       "</table>\n",
       "</div>"
      ],
      "text/plain": [
       "   listing_id        date    available      price\n",
       "0       50778  2020-04-26  unavailable  $2,655.00\n",
       "1      133654  2020-04-27    available  $1,150.00"
      ]
     },
     "execution_count": 14,
     "metadata": {},
     "output_type": "execute_result"
    }
   ],
   "source": [
    "calendar['available'] = calendar['available'].replace({'t': 'available', 'f': 'unavailable'})\n",
    "calendar.head(2)"
   ]
  },
  {
   "cell_type": "code",
   "execution_count": 15,
   "metadata": {},
   "outputs": [
    {
     "name": "stdout",
     "output_type": "stream",
     "text": [
      "<class 'pandas.core.frame.DataFrame'>\n",
      "RangeIndex: 8661286 entries, 0 to 8661285\n",
      "Data columns (total 4 columns):\n",
      " #   Column      Dtype \n",
      "---  ------      ----- \n",
      " 0   listing_id  int64 \n",
      " 1   date        object\n",
      " 2   available   object\n",
      " 3   price       object\n",
      "dtypes: int64(1), object(3)\n",
      "memory usage: 264.3+ MB\n"
     ]
    }
   ],
   "source": [
    "calendar.info()"
   ]
  },
  {
   "cell_type": "markdown",
   "metadata": {},
   "source": [
    " We change the format of the ‘date’ column so that it looks like datetime"
   ]
  },
  {
   "cell_type": "code",
   "execution_count": 16,
   "metadata": {},
   "outputs": [],
   "source": [
    "calendar['date'] = pd.to_datetime(calendar['date'])\n",
    "calendar['date'] = calendar['date'].dt.strftime('%d-%m-%Y')"
   ]
  },
  {
   "cell_type": "code",
   "execution_count": 17,
   "metadata": {},
   "outputs": [
    {
     "data": {
      "text/html": [
       "<div>\n",
       "<style scoped>\n",
       "    .dataframe tbody tr th:only-of-type {\n",
       "        vertical-align: middle;\n",
       "    }\n",
       "\n",
       "    .dataframe tbody tr th {\n",
       "        vertical-align: top;\n",
       "    }\n",
       "\n",
       "    .dataframe thead th {\n",
       "        text-align: right;\n",
       "    }\n",
       "</style>\n",
       "<table border=\"1\" class=\"dataframe\">\n",
       "  <thead>\n",
       "    <tr style=\"text-align: right;\">\n",
       "      <th></th>\n",
       "      <th>listing_id</th>\n",
       "      <th>date</th>\n",
       "      <th>available</th>\n",
       "      <th>price</th>\n",
       "    </tr>\n",
       "  </thead>\n",
       "  <tbody>\n",
       "    <tr>\n",
       "      <th>0</th>\n",
       "      <td>50778</td>\n",
       "      <td>26-04-2020</td>\n",
       "      <td>unavailable</td>\n",
       "      <td>$2,655.00</td>\n",
       "    </tr>\n",
       "    <tr>\n",
       "      <th>1</th>\n",
       "      <td>133654</td>\n",
       "      <td>27-04-2020</td>\n",
       "      <td>available</td>\n",
       "      <td>$1,150.00</td>\n",
       "    </tr>\n",
       "    <tr>\n",
       "      <th>2</th>\n",
       "      <td>133654</td>\n",
       "      <td>28-04-2020</td>\n",
       "      <td>available</td>\n",
       "      <td>$1,150.00</td>\n",
       "    </tr>\n",
       "    <tr>\n",
       "      <th>3</th>\n",
       "      <td>133654</td>\n",
       "      <td>29-04-2020</td>\n",
       "      <td>available</td>\n",
       "      <td>$1,150.00</td>\n",
       "    </tr>\n",
       "    <tr>\n",
       "      <th>4</th>\n",
       "      <td>133654</td>\n",
       "      <td>30-04-2020</td>\n",
       "      <td>available</td>\n",
       "      <td>$1,150.00</td>\n",
       "    </tr>\n",
       "  </tbody>\n",
       "</table>\n",
       "</div>"
      ],
      "text/plain": [
       "   listing_id        date    available      price\n",
       "0       50778  26-04-2020  unavailable  $2,655.00\n",
       "1      133654  27-04-2020    available  $1,150.00\n",
       "2      133654  28-04-2020    available  $1,150.00\n",
       "3      133654  29-04-2020    available  $1,150.00\n",
       "4      133654  30-04-2020    available  $1,150.00"
      ]
     },
     "execution_count": 17,
     "metadata": {},
     "output_type": "execute_result"
    }
   ],
   "source": [
    "calendar.head()"
   ]
  },
  {
   "cell_type": "code",
   "execution_count": 18,
   "metadata": {},
   "outputs": [
    {
     "name": "stdout",
     "output_type": "stream",
     "text": [
      "There are 0 null values in listing_id\n",
      "There are 0 null values in date\n",
      "There are 0 null values in available\n",
      "There are 0 null values in price\n"
     ]
    }
   ],
   "source": [
    "# We identify the number of null values left in the dataset.\n",
    "for column in calendar.columns:\n",
    "    print(f'There are {calendar[column].isna().sum()} null values in {column}')"
   ]
  },
  {
   "cell_type": "code",
   "execution_count": 19,
   "metadata": {},
   "outputs": [],
   "source": [
    "# New dataset with changes\n",
    "calendar.to_csv('./datasets/New_calendar.csv', index=False)"
   ]
  },
  {
   "cell_type": "markdown",
   "metadata": {},
   "source": [
    "### We start with an ETL with the DF called ‘Reviews’.We start with an ETL with the DF called ‘Reviews’."
   ]
  },
  {
   "cell_type": "code",
   "execution_count": 20,
   "metadata": {},
   "outputs": [
    {
     "data": {
      "text/html": [
       "<div>\n",
       "<style scoped>\n",
       "    .dataframe tbody tr th:only-of-type {\n",
       "        vertical-align: middle;\n",
       "    }\n",
       "\n",
       "    .dataframe tbody tr th {\n",
       "        vertical-align: top;\n",
       "    }\n",
       "\n",
       "    .dataframe thead th {\n",
       "        text-align: right;\n",
       "    }\n",
       "</style>\n",
       "<table border=\"1\" class=\"dataframe\">\n",
       "  <thead>\n",
       "    <tr style=\"text-align: right;\">\n",
       "      <th></th>\n",
       "      <th>listing_id</th>\n",
       "      <th>id</th>\n",
       "      <th>date</th>\n",
       "      <th>reviewer_id</th>\n",
       "      <th>reviewer_name</th>\n",
       "      <th>comments</th>\n",
       "    </tr>\n",
       "  </thead>\n",
       "  <tbody>\n",
       "    <tr>\n",
       "      <th>0</th>\n",
       "      <td>11508</td>\n",
       "      <td>1615861</td>\n",
       "      <td>2012-07-02</td>\n",
       "      <td>877808</td>\n",
       "      <td>Charlie</td>\n",
       "      <td>Amazing place!\\r\\n\\r\\nLocation: short walk to ...</td>\n",
       "    </tr>\n",
       "    <tr>\n",
       "      <th>1</th>\n",
       "      <td>11508</td>\n",
       "      <td>3157005</td>\n",
       "      <td>2012-12-26</td>\n",
       "      <td>656077</td>\n",
       "      <td>Shaily</td>\n",
       "      <td>Really enjoyed Candela's recommendations and q...</td>\n",
       "    </tr>\n",
       "    <tr>\n",
       "      <th>2</th>\n",
       "      <td>11508</td>\n",
       "      <td>3281011</td>\n",
       "      <td>2013-01-05</td>\n",
       "      <td>2835998</td>\n",
       "      <td>Michiel</td>\n",
       "      <td>Candela and her colleague were very attentive ...</td>\n",
       "    </tr>\n",
       "  </tbody>\n",
       "</table>\n",
       "</div>"
      ],
      "text/plain": [
       "   listing_id       id        date  reviewer_id reviewer_name  \\\n",
       "0       11508  1615861  2012-07-02       877808       Charlie   \n",
       "1       11508  3157005  2012-12-26       656077        Shaily   \n",
       "2       11508  3281011  2013-01-05      2835998       Michiel   \n",
       "\n",
       "                                            comments  \n",
       "0  Amazing place!\\r\\n\\r\\nLocation: short walk to ...  \n",
       "1  Really enjoyed Candela's recommendations and q...  \n",
       "2  Candela and her colleague were very attentive ...  "
      ]
     },
     "execution_count": 20,
     "metadata": {},
     "output_type": "execute_result"
    }
   ],
   "source": [
    "reviews.head(3)"
   ]
  },
  {
   "cell_type": "code",
   "execution_count": 21,
   "metadata": {},
   "outputs": [
    {
     "data": {
      "text/html": [
       "<div>\n",
       "<style scoped>\n",
       "    .dataframe tbody tr th:only-of-type {\n",
       "        vertical-align: middle;\n",
       "    }\n",
       "\n",
       "    .dataframe tbody tr th {\n",
       "        vertical-align: top;\n",
       "    }\n",
       "\n",
       "    .dataframe thead th {\n",
       "        text-align: right;\n",
       "    }\n",
       "</style>\n",
       "<table border=\"1\" class=\"dataframe\">\n",
       "  <thead>\n",
       "    <tr style=\"text-align: right;\">\n",
       "      <th></th>\n",
       "      <th>listing_id</th>\n",
       "      <th>id</th>\n",
       "      <th>date</th>\n",
       "      <th>reviewer_id</th>\n",
       "      <th>reviewer_name</th>\n",
       "      <th>comments</th>\n",
       "    </tr>\n",
       "  </thead>\n",
       "  <tbody>\n",
       "    <tr>\n",
       "      <th>0</th>\n",
       "      <td>11508</td>\n",
       "      <td>1615861</td>\n",
       "      <td>02-07-2012</td>\n",
       "      <td>877808</td>\n",
       "      <td>Charlie</td>\n",
       "      <td>Amazing place!\\r\\n\\r\\nLocation: short walk to ...</td>\n",
       "    </tr>\n",
       "    <tr>\n",
       "      <th>1</th>\n",
       "      <td>11508</td>\n",
       "      <td>3157005</td>\n",
       "      <td>26-12-2012</td>\n",
       "      <td>656077</td>\n",
       "      <td>Shaily</td>\n",
       "      <td>Really enjoyed Candela's recommendations and q...</td>\n",
       "    </tr>\n",
       "    <tr>\n",
       "      <th>2</th>\n",
       "      <td>11508</td>\n",
       "      <td>3281011</td>\n",
       "      <td>05-01-2013</td>\n",
       "      <td>2835998</td>\n",
       "      <td>Michiel</td>\n",
       "      <td>Candela and her colleague were very attentive ...</td>\n",
       "    </tr>\n",
       "  </tbody>\n",
       "</table>\n",
       "</div>"
      ],
      "text/plain": [
       "   listing_id       id        date  reviewer_id reviewer_name  \\\n",
       "0       11508  1615861  02-07-2012       877808       Charlie   \n",
       "1       11508  3157005  26-12-2012       656077        Shaily   \n",
       "2       11508  3281011  05-01-2013      2835998       Michiel   \n",
       "\n",
       "                                            comments  \n",
       "0  Amazing place!\\r\\n\\r\\nLocation: short walk to ...  \n",
       "1  Really enjoyed Candela's recommendations and q...  \n",
       "2  Candela and her colleague were very attentive ...  "
      ]
     },
     "execution_count": 21,
     "metadata": {},
     "output_type": "execute_result"
    }
   ],
   "source": [
    "# We change the format of the ‘date’ column so that it looks like datetime \n",
    "reviews['date'] = pd.to_datetime(reviews['date'])\n",
    "reviews['date'] = reviews['date'].dt.strftime('%d-%m-%Y')\n",
    "reviews.head(3)"
   ]
  },
  {
   "cell_type": "code",
   "execution_count": 24,
   "metadata": {},
   "outputs": [
    {
     "name": "stdout",
     "output_type": "stream",
     "text": [
      "there are 0 nulls values in listing_id\n",
      "there are 0 nulls values in id\n",
      "there are 0 nulls values in date\n",
      "there are 0 nulls values in reviewer_id\n",
      "there are 0 nulls values in reviewer_name\n",
      "there are 176 nulls values in comments\n"
     ]
    }
   ],
   "source": [
    "# We identify the number of null values left in the dataset\n",
    "for column in reviews.columns:\n",
    "    print(f'there are {reviews[column].isna().sum()} nulls values in {column}')"
   ]
  },
  {
   "cell_type": "markdown",
   "metadata": {},
   "source": [
    "### We delete null values"
   ]
  },
  {
   "cell_type": "code",
   "execution_count": 25,
   "metadata": {},
   "outputs": [],
   "source": [
    "reviews = reviews.dropna()"
   ]
  },
  {
   "cell_type": "code",
   "execution_count": 26,
   "metadata": {},
   "outputs": [
    {
     "name": "stdout",
     "output_type": "stream",
     "text": [
      "there are 0 nulls values in listing_id\n",
      "there are 0 nulls values in id\n",
      "there are 0 nulls values in date\n",
      "there are 0 nulls values in reviewer_id\n",
      "there are 0 nulls values in reviewer_name\n",
      "there are 0 nulls values in comments\n"
     ]
    }
   ],
   "source": [
    "# We identify the number of null values left in the dataset.\n",
    "for column in reviews.columns:\n",
    "    print(f'there are {reviews[column].isna().sum()} nulls values in {column}')"
   ]
  },
  {
   "cell_type": "code",
   "execution_count": 27,
   "metadata": {},
   "outputs": [
    {
     "name": "stdout",
     "output_type": "stream",
     "text": [
      "<class 'pandas.core.frame.DataFrame'>\n",
      "Index: 386923 entries, 0 to 387098\n",
      "Data columns (total 6 columns):\n",
      " #   Column         Non-Null Count   Dtype \n",
      "---  ------         --------------   ----- \n",
      " 0   listing_id     386923 non-null  int64 \n",
      " 1   id             386923 non-null  int64 \n",
      " 2   date           386923 non-null  object\n",
      " 3   reviewer_id    386923 non-null  int64 \n",
      " 4   reviewer_name  386923 non-null  object\n",
      " 5   comments       386923 non-null  object\n",
      "dtypes: int64(3), object(3)\n",
      "memory usage: 20.7+ MB\n"
     ]
    }
   ],
   "source": [
    "reviews.info()"
   ]
  },
  {
   "cell_type": "code",
   "execution_count": 28,
   "metadata": {},
   "outputs": [],
   "source": [
    "reviews['comments'] = reviews['comments'].astype('str')"
   ]
  },
  {
   "cell_type": "code",
   "execution_count": 29,
   "metadata": {},
   "outputs": [],
   "source": [
    "def analyse_feeling(review: str) -> int:\n",
    "    analysis = TextBlob(review)\n",
    "    if analysis.sentiment.polarity < 0:\n",
    "        return 0 # Negative sentiment\n",
    "    if analysis.sentiment.polarity == 0:\n",
    "        return 1 # Neutral sentiment\n",
    "    else:\n",
    "        return 2 # Positive sentiment"
   ]
  },
  {
   "cell_type": "code",
   "execution_count": 30,
   "metadata": {},
   "outputs": [],
   "source": [
    "reviews['analyse_feeling'] = reviews['comments'].apply(analyse_feeling)"
   ]
  },
  {
   "cell_type": "markdown",
   "metadata": {},
   "source": [
    "After the sentiment analysis we can delete the comments column, we will not use it."
   ]
  },
  {
   "cell_type": "code",
   "execution_count": 31,
   "metadata": {},
   "outputs": [
    {
     "data": {
      "text/html": [
       "<div>\n",
       "<style scoped>\n",
       "    .dataframe tbody tr th:only-of-type {\n",
       "        vertical-align: middle;\n",
       "    }\n",
       "\n",
       "    .dataframe tbody tr th {\n",
       "        vertical-align: top;\n",
       "    }\n",
       "\n",
       "    .dataframe thead th {\n",
       "        text-align: right;\n",
       "    }\n",
       "</style>\n",
       "<table border=\"1\" class=\"dataframe\">\n",
       "  <thead>\n",
       "    <tr style=\"text-align: right;\">\n",
       "      <th></th>\n",
       "      <th>listing_id</th>\n",
       "      <th>id</th>\n",
       "      <th>date</th>\n",
       "      <th>reviewer_id</th>\n",
       "      <th>reviewer_name</th>\n",
       "      <th>analyse_feeling</th>\n",
       "    </tr>\n",
       "  </thead>\n",
       "  <tbody>\n",
       "    <tr>\n",
       "      <th>0</th>\n",
       "      <td>11508</td>\n",
       "      <td>1615861</td>\n",
       "      <td>02-07-2012</td>\n",
       "      <td>877808</td>\n",
       "      <td>Charlie</td>\n",
       "      <td>2</td>\n",
       "    </tr>\n",
       "    <tr>\n",
       "      <th>1</th>\n",
       "      <td>11508</td>\n",
       "      <td>3157005</td>\n",
       "      <td>26-12-2012</td>\n",
       "      <td>656077</td>\n",
       "      <td>Shaily</td>\n",
       "      <td>2</td>\n",
       "    </tr>\n",
       "    <tr>\n",
       "      <th>2</th>\n",
       "      <td>11508</td>\n",
       "      <td>3281011</td>\n",
       "      <td>05-01-2013</td>\n",
       "      <td>2835998</td>\n",
       "      <td>Michiel</td>\n",
       "      <td>2</td>\n",
       "    </tr>\n",
       "  </tbody>\n",
       "</table>\n",
       "</div>"
      ],
      "text/plain": [
       "   listing_id       id        date  reviewer_id reviewer_name  analyse_feeling\n",
       "0       11508  1615861  02-07-2012       877808       Charlie                2\n",
       "1       11508  3157005  26-12-2012       656077        Shaily                2\n",
       "2       11508  3281011  05-01-2013      2835998       Michiel                2"
      ]
     },
     "execution_count": 31,
     "metadata": {},
     "output_type": "execute_result"
    }
   ],
   "source": [
    "reviews.drop(['comments'], axis=1 , inplace=True)\n",
    "reviews.head(3)"
   ]
  },
  {
   "cell_type": "code",
   "execution_count": 32,
   "metadata": {},
   "outputs": [],
   "source": [
    "# We generate a new dataset with the changes. \n",
    "reviews.to_csv('./datasets/New_reviews.csv', index=False)"
   ]
  },
  {
   "cell_type": "markdown",
   "metadata": {},
   "source": [
    "### We start with an ETL with the DF called ‘Listings’."
   ]
  },
  {
   "cell_type": "code",
   "execution_count": 33,
   "metadata": {},
   "outputs": [
    {
     "data": {
      "text/html": [
       "<div>\n",
       "<style scoped>\n",
       "    .dataframe tbody tr th:only-of-type {\n",
       "        vertical-align: middle;\n",
       "    }\n",
       "\n",
       "    .dataframe tbody tr th {\n",
       "        vertical-align: top;\n",
       "    }\n",
       "\n",
       "    .dataframe thead th {\n",
       "        text-align: right;\n",
       "    }\n",
       "</style>\n",
       "<table border=\"1\" class=\"dataframe\">\n",
       "  <thead>\n",
       "    <tr style=\"text-align: right;\">\n",
       "      <th></th>\n",
       "      <th>id</th>\n",
       "      <th>listing_url</th>\n",
       "      <th>scrape_id</th>\n",
       "      <th>last_scraped</th>\n",
       "      <th>name</th>\n",
       "      <th>summary</th>\n",
       "      <th>space</th>\n",
       "      <th>description</th>\n",
       "      <th>experiences_offered</th>\n",
       "      <th>neighborhood_overview</th>\n",
       "      <th>...</th>\n",
       "      <th>instant_bookable</th>\n",
       "      <th>is_business_travel_ready</th>\n",
       "      <th>cancellation_policy</th>\n",
       "      <th>require_guest_profile_picture</th>\n",
       "      <th>require_guest_phone_verification</th>\n",
       "      <th>calculated_host_listings_count</th>\n",
       "      <th>calculated_host_listings_count_entire_homes</th>\n",
       "      <th>calculated_host_listings_count_private_rooms</th>\n",
       "      <th>calculated_host_listings_count_shared_rooms</th>\n",
       "      <th>reviews_per_month</th>\n",
       "    </tr>\n",
       "  </thead>\n",
       "  <tbody>\n",
       "    <tr>\n",
       "      <th>0</th>\n",
       "      <td>11508</td>\n",
       "      <td>https://www.airbnb.com/rooms/11508</td>\n",
       "      <td>20200426042522</td>\n",
       "      <td>2020-04-26</td>\n",
       "      <td>Amazing Luxurious Apt-Palermo Soho</td>\n",
       "      <td>NaN</td>\n",
       "      <td>LUXURIOUS NEW APT: 1 BDRM- POOL/ GYM/ SPA/ 24-...</td>\n",
       "      <td>LUXURIOUS NEW APT: 1 BDRM- POOL/ GYM/ SPA/ 24-...</td>\n",
       "      <td>none</td>\n",
       "      <td>AREA: PALERMO SOHO Minutes walking distance fr...</td>\n",
       "      <td>...</td>\n",
       "      <td>f</td>\n",
       "      <td>f</td>\n",
       "      <td>strict_14_with_grace_period</td>\n",
       "      <td>f</td>\n",
       "      <td>f</td>\n",
       "      <td>1</td>\n",
       "      <td>1</td>\n",
       "      <td>0</td>\n",
       "      <td>0</td>\n",
       "      <td>0.27</td>\n",
       "    </tr>\n",
       "    <tr>\n",
       "      <th>1</th>\n",
       "      <td>12463</td>\n",
       "      <td>https://www.airbnb.com/rooms/12463</td>\n",
       "      <td>20200426042522</td>\n",
       "      <td>2020-04-26</td>\n",
       "      <td>Room in Recoleta - awesome location</td>\n",
       "      <td>My apartment is centrally located in Recoleta ...</td>\n",
       "      <td>This is a very comfortable pull-out sofa in th...</td>\n",
       "      <td>My apartment is centrally located in Recoleta ...</td>\n",
       "      <td>none</td>\n",
       "      <td>It's near the school of medicine so the street...</td>\n",
       "      <td>...</td>\n",
       "      <td>f</td>\n",
       "      <td>f</td>\n",
       "      <td>moderate</td>\n",
       "      <td>f</td>\n",
       "      <td>f</td>\n",
       "      <td>1</td>\n",
       "      <td>0</td>\n",
       "      <td>1</td>\n",
       "      <td>0</td>\n",
       "      <td>0.16</td>\n",
       "    </tr>\n",
       "  </tbody>\n",
       "</table>\n",
       "<p>2 rows × 106 columns</p>\n",
       "</div>"
      ],
      "text/plain": [
       "      id                         listing_url       scrape_id last_scraped  \\\n",
       "0  11508  https://www.airbnb.com/rooms/11508  20200426042522   2020-04-26   \n",
       "1  12463  https://www.airbnb.com/rooms/12463  20200426042522   2020-04-26   \n",
       "\n",
       "                                  name  \\\n",
       "0   Amazing Luxurious Apt-Palermo Soho   \n",
       "1  Room in Recoleta - awesome location   \n",
       "\n",
       "                                             summary  \\\n",
       "0                                                NaN   \n",
       "1  My apartment is centrally located in Recoleta ...   \n",
       "\n",
       "                                               space  \\\n",
       "0  LUXURIOUS NEW APT: 1 BDRM- POOL/ GYM/ SPA/ 24-...   \n",
       "1  This is a very comfortable pull-out sofa in th...   \n",
       "\n",
       "                                         description experiences_offered  \\\n",
       "0  LUXURIOUS NEW APT: 1 BDRM- POOL/ GYM/ SPA/ 24-...                none   \n",
       "1  My apartment is centrally located in Recoleta ...                none   \n",
       "\n",
       "                               neighborhood_overview  ... instant_bookable  \\\n",
       "0  AREA: PALERMO SOHO Minutes walking distance fr...  ...                f   \n",
       "1  It's near the school of medicine so the street...  ...                f   \n",
       "\n",
       "  is_business_travel_ready          cancellation_policy  \\\n",
       "0                        f  strict_14_with_grace_period   \n",
       "1                        f                     moderate   \n",
       "\n",
       "  require_guest_profile_picture require_guest_phone_verification  \\\n",
       "0                             f                                f   \n",
       "1                             f                                f   \n",
       "\n",
       "   calculated_host_listings_count  \\\n",
       "0                               1   \n",
       "1                               1   \n",
       "\n",
       "   calculated_host_listings_count_entire_homes  \\\n",
       "0                                            1   \n",
       "1                                            0   \n",
       "\n",
       "  calculated_host_listings_count_private_rooms  \\\n",
       "0                                            0   \n",
       "1                                            1   \n",
       "\n",
       "   calculated_host_listings_count_shared_rooms  reviews_per_month  \n",
       "0                                            0               0.27  \n",
       "1                                            0               0.16  \n",
       "\n",
       "[2 rows x 106 columns]"
      ]
     },
     "execution_count": 33,
     "metadata": {},
     "output_type": "execute_result"
    }
   ],
   "source": [
    "listings.head(2)"
   ]
  },
  {
   "cell_type": "markdown",
   "metadata": {},
   "source": [
    "We delete the columns containing the highest concentration of nulls"
   ]
  },
  {
   "cell_type": "code",
   "execution_count": 35,
   "metadata": {},
   "outputs": [
    {
     "name": "stdout",
     "output_type": "stream",
     "text": [
      "there are 0 nulls values in id\n",
      "there are 0 nulls values in listing_url\n",
      "there are 0 nulls values in scrape_id\n",
      "there are 0 nulls values in last_scraped\n",
      "there are 10 nulls values in name\n",
      "there are 1384 nulls values in summary\n",
      "there are 7194 nulls values in space\n",
      "there are 801 nulls values in description\n",
      "there are 0 nulls values in experiences_offered\n",
      "there are 7665 nulls values in neighborhood_overview\n",
      "there are 16007 nulls values in notes\n",
      "there are 9221 nulls values in transit\n",
      "there are 13525 nulls values in access\n",
      "there are 9824 nulls values in interaction\n",
      "there are 13078 nulls values in house_rules\n",
      "there are 23729 nulls values in thumbnail_url\n",
      "there are 23729 nulls values in medium_url\n",
      "there are 0 nulls values in picture_url\n",
      "there are 23729 nulls values in xl_picture_url\n",
      "there are 0 nulls values in host_id\n",
      "there are 0 nulls values in host_url\n",
      "there are 3 nulls values in host_name\n",
      "there are 3 nulls values in host_since\n",
      "there are 103 nulls values in host_location\n",
      "there are 10000 nulls values in host_about\n",
      "there are 6886 nulls values in host_response_time\n",
      "there are 6886 nulls values in host_response_rate\n",
      "there are 5199 nulls values in host_acceptance_rate\n",
      "there are 3 nulls values in host_is_superhost\n",
      "there are 3 nulls values in host_thumbnail_url\n",
      "there are 3 nulls values in host_picture_url\n",
      "there are 2859 nulls values in host_neighbourhood\n",
      "there are 3 nulls values in host_listings_count\n",
      "there are 3 nulls values in host_total_listings_count\n",
      "there are 3 nulls values in host_verifications\n",
      "there are 3 nulls values in host_has_profile_pic\n",
      "there are 3 nulls values in host_identity_verified\n",
      "there are 0 nulls values in street\n",
      "there are 0 nulls values in neighbourhood\n",
      "there are 0 nulls values in neighbourhood_cleansed\n",
      "there are 23729 nulls values in neighbourhood_group_cleansed\n",
      "there are 587 nulls values in city\n",
      "there are 183 nulls values in state\n",
      "there are 5187 nulls values in zipcode\n",
      "there are 21 nulls values in market\n",
      "there are 0 nulls values in smart_location\n",
      "there are 0 nulls values in country_code\n",
      "there are 0 nulls values in country\n",
      "there are 0 nulls values in latitude\n",
      "there are 0 nulls values in longitude\n",
      "there are 0 nulls values in is_location_exact\n",
      "there are 0 nulls values in property_type\n",
      "there are 0 nulls values in room_type\n",
      "there are 0 nulls values in accommodates\n",
      "there are 62 nulls values in bathrooms\n",
      "there are 43 nulls values in bedrooms\n",
      "there are 167 nulls values in beds\n",
      "there are 0 nulls values in bed_type\n",
      "there are 0 nulls values in amenities\n",
      "there are 23346 nulls values in square_feet\n",
      "there are 0 nulls values in price\n",
      "there are 21188 nulls values in weekly_price\n",
      "there are 21151 nulls values in monthly_price\n",
      "there are 8195 nulls values in security_deposit\n",
      "there are 6785 nulls values in cleaning_fee\n",
      "there are 0 nulls values in guests_included\n",
      "there are 0 nulls values in extra_people\n",
      "there are 0 nulls values in minimum_nights\n",
      "there are 0 nulls values in maximum_nights\n",
      "there are 0 nulls values in minimum_minimum_nights\n",
      "there are 0 nulls values in maximum_minimum_nights\n",
      "there are 0 nulls values in minimum_maximum_nights\n",
      "there are 0 nulls values in maximum_maximum_nights\n",
      "there are 0 nulls values in minimum_nights_avg_ntm\n",
      "there are 0 nulls values in maximum_nights_avg_ntm\n",
      "there are 0 nulls values in calendar_updated\n",
      "there are 0 nulls values in has_availability\n",
      "there are 0 nulls values in availability_30\n",
      "there are 0 nulls values in availability_60\n",
      "there are 0 nulls values in availability_90\n",
      "there are 0 nulls values in availability_365\n",
      "there are 0 nulls values in calendar_last_scraped\n",
      "there are 0 nulls values in number_of_reviews\n",
      "there are 0 nulls values in number_of_reviews_ltm\n",
      "there are 6507 nulls values in first_review\n",
      "there are 6507 nulls values in last_review\n",
      "there are 6890 nulls values in review_scores_rating\n",
      "there are 6907 nulls values in review_scores_accuracy\n",
      "there are 6907 nulls values in review_scores_cleanliness\n",
      "there are 6907 nulls values in review_scores_checkin\n",
      "there are 6908 nulls values in review_scores_communication\n",
      "there are 6907 nulls values in review_scores_location\n",
      "there are 6909 nulls values in review_scores_value\n",
      "there are 0 nulls values in requires_license\n",
      "there are 23729 nulls values in license\n",
      "there are 23722 nulls values in jurisdiction_names\n",
      "there are 0 nulls values in instant_bookable\n",
      "there are 0 nulls values in is_business_travel_ready\n",
      "there are 0 nulls values in cancellation_policy\n",
      "there are 0 nulls values in require_guest_profile_picture\n",
      "there are 0 nulls values in require_guest_phone_verification\n",
      "there are 0 nulls values in calculated_host_listings_count\n",
      "there are 0 nulls values in calculated_host_listings_count_entire_homes\n",
      "there are 0 nulls values in calculated_host_listings_count_private_rooms\n",
      "there are 0 nulls values in calculated_host_listings_count_shared_rooms\n",
      "there are 6507 nulls values in reviews_per_month\n"
     ]
    }
   ],
   "source": [
    "#We identify the number of null values left in the dataset\n",
    "for column in listings.columns:\n",
    "    print(f'there are {listings[column].isna().sum()} nulls values in {column}')"
   ]
  },
  {
   "cell_type": "markdown",
   "metadata": {},
   "source": [
    "### We generate a new df with the columns"
   ]
  },
  {
   "cell_type": "code",
   "execution_count": 37,
   "metadata": {},
   "outputs": [],
   "source": [
    "listings = listings[\n",
    "    ['id', 'name', 'description', 'host_id', 'host_name', 'street', 'neighbourhood',\n",
    "    'city', 'state', 'market', 'country_code', 'country', 'latitude',\n",
    "    'longitude', 'is_location_exact', 'room_type', 'accommodates', 'bathrooms',\n",
    "    'bedrooms', 'beds', 'bed_type', 'price','minimum_nights', 'maximum_nights', 'calendar_updated',\n",
    "    'has_availability', 'availability_30', 'availability_60', 'availability_90',\n",
    "    'availability_365']\n",
    "]"
   ]
  },
  {
   "cell_type": "code",
   "execution_count": 38,
   "metadata": {},
   "outputs": [
    {
     "name": "stdout",
     "output_type": "stream",
     "text": [
      "there are 0 nulls values in id\n",
      "there are 10 nulls values in name\n",
      "there are 801 nulls values in description\n",
      "there are 0 nulls values in host_id\n",
      "there are 3 nulls values in host_name\n",
      "there are 0 nulls values in street\n",
      "there are 0 nulls values in neighbourhood\n",
      "there are 587 nulls values in city\n",
      "there are 183 nulls values in state\n",
      "there are 21 nulls values in market\n",
      "there are 0 nulls values in country_code\n",
      "there are 0 nulls values in country\n",
      "there are 0 nulls values in latitude\n",
      "there are 0 nulls values in longitude\n",
      "there are 0 nulls values in is_location_exact\n",
      "there are 0 nulls values in room_type\n",
      "there are 0 nulls values in accommodates\n",
      "there are 62 nulls values in bathrooms\n",
      "there are 43 nulls values in bedrooms\n",
      "there are 167 nulls values in beds\n",
      "there are 0 nulls values in bed_type\n",
      "there are 0 nulls values in price\n",
      "there are 0 nulls values in minimum_nights\n",
      "there are 0 nulls values in maximum_nights\n",
      "there are 0 nulls values in calendar_updated\n",
      "there are 0 nulls values in has_availability\n",
      "there are 0 nulls values in availability_30\n",
      "there are 0 nulls values in availability_60\n",
      "there are 0 nulls values in availability_90\n",
      "there are 0 nulls values in availability_365\n"
     ]
    }
   ],
   "source": [
    "# We identify the number of null values left in the dataset.\n",
    "for column in listings.columns:\n",
    "    print(f'there are {listings[column].isna().sum()} nulls values in {column}')"
   ]
  }
 ],
 "metadata": {
  "kernelspec": {
   "display_name": "Python 3",
   "language": "python",
   "name": "python3"
  },
  "language_info": {
   "codemirror_mode": {
    "name": "ipython",
    "version": 3
   },
   "file_extension": ".py",
   "mimetype": "text/x-python",
   "name": "python",
   "nbconvert_exporter": "python",
   "pygments_lexer": "ipython3",
   "version": "3.11.4"
  }
 },
 "nbformat": 4,
 "nbformat_minor": 2
}
